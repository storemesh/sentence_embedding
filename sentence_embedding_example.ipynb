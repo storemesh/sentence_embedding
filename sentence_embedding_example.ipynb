{
 "cells": [
  {
   "cell_type": "code",
   "execution_count": 2,
   "id": "7397c0fd",
   "metadata": {},
   "outputs": [],
   "source": [
    "from sentence_transformers import SentenceTransformer, util\n",
    "from sklearn.feature_extraction.text import TfidfVectorizer\n",
    "import pandas as pd\n",
    "import numpy as np\n",
    "\n",
    "from attacut import tokenize, Tokenizer\n",
    "\n",
    "import umap\n",
    "import umap.plot\n",
    "from sklearn.datasets import load_digits"
   ]
  },
  {
   "cell_type": "markdown",
   "id": "307cceec",
   "metadata": {},
   "source": [
    "### Define Tokenizer Function"
   ]
  },
  {
   "cell_type": "code",
   "execution_count": 3,
   "id": "dd5d4973",
   "metadata": {},
   "outputs": [],
   "source": [
    "def tokenizer_text(sentence):\n",
    "    words = tokenize(sentence)\n",
    "    space_sentence = \" \".join(words)\n",
    "    return space_sentence\n",
    "    \n",
    "# tokenizer_text(\"การทำเครื่องประดับจากเพชรพลอย และหินมีค่าทุกชนิด และทำแว่นสายตา  Is this the first document? แมว\")"
   ]
  },
  {
   "cell_type": "markdown",
   "id": "6106a64e",
   "metadata": {},
   "source": [
    "### Preprocess"
   ]
  },
  {
   "cell_type": "code",
   "execution_count": 4,
   "id": "4db07447",
   "metadata": {
    "scrolled": true
   },
   "outputs": [],
   "source": [
    "df = pd.read_excel('dataset314.xlsx')"
   ]
  },
  {
   "cell_type": "code",
   "execution_count": 5,
   "id": "0c28831f",
   "metadata": {},
   "outputs": [
    {
     "data": {
      "text/html": [
       "<div>\n",
       "<style scoped>\n",
       "    .dataframe tbody tr th:only-of-type {\n",
       "        vertical-align: middle;\n",
       "    }\n",
       "\n",
       "    .dataframe tbody tr th {\n",
       "        vertical-align: top;\n",
       "    }\n",
       "\n",
       "    .dataframe thead th {\n",
       "        text-align: right;\n",
       "    }\n",
       "</style>\n",
       "<table border=\"1\" class=\"dataframe\">\n",
       "  <thead>\n",
       "    <tr style=\"text-align: right;\">\n",
       "      <th></th>\n",
       "      <th>เลขทะเบียนนิติบุคคล</th>\n",
       "      <th>THname</th>\n",
       "      <th>TSIC Code</th>\n",
       "      <th>ประกอบธุรกิจ</th>\n",
       "      <th>product_type</th>\n",
       "    </tr>\n",
       "  </thead>\n",
       "  <tbody>\n",
       "    <tr>\n",
       "      <th>0</th>\n",
       "      <td>105548144838</td>\n",
       "      <td>แอนติก้า</td>\n",
       "      <td>32111</td>\n",
       "      <td>การผลิตเครื่องประดับจากอัญมณีและโลหะมีค่า</td>\n",
       "      <td>Gold Jewelry.Diamonds Jewelry</td>\n",
       "    </tr>\n",
       "    <tr>\n",
       "      <th>1</th>\n",
       "      <td>105548144838</td>\n",
       "      <td>แอนติคก้า เจมส์</td>\n",
       "      <td>32111</td>\n",
       "      <td>ประกอบธุจกิจหลักจำหน่ายและให้บริการออกแบบผลิตเ...</td>\n",
       "      <td>Gemstones</td>\n",
       "    </tr>\n",
       "    <tr>\n",
       "      <th>2</th>\n",
       "      <td>105540000799</td>\n",
       "      <td>แอนทิค เจมส์</td>\n",
       "      <td>32111</td>\n",
       "      <td>การผลิตเครื่องประดับจากอัญมณีและโลหะมีค่า</td>\n",
       "      <td>Gold Jewelry</td>\n",
       "    </tr>\n",
       "    <tr>\n",
       "      <th>3</th>\n",
       "      <td>123562001991</td>\n",
       "      <td>168 หนูบางแค</td>\n",
       "      <td>32112</td>\n",
       "      <td>ผลิตและจำหน่ายเหรียญโลหะทุกประเภท</td>\n",
       "      <td>Gemstones,Simi-Precious</td>\n",
       "    </tr>\n",
       "    <tr>\n",
       "      <th>4</th>\n",
       "      <td>105548068538</td>\n",
       "      <td>กรหิรัญ</td>\n",
       "      <td>32112</td>\n",
       "      <td>ประกอบกิจการเกี่ยวกับผลิตและจำหน่ายเครื่องเงิน...</td>\n",
       "      <td>Gold Bars / Bullion,Rough Diamonds,Precious St...</td>\n",
       "    </tr>\n",
       "  </tbody>\n",
       "</table>\n",
       "</div>"
      ],
      "text/plain": [
       "   เลขทะเบียนนิติบุคคล           THname  TSIC Code  \\\n",
       "0         105548144838         แอนติก้า      32111   \n",
       "1         105548144838  แอนติคก้า เจมส์      32111   \n",
       "2         105540000799     แอนทิค เจมส์      32111   \n",
       "3         123562001991     168 หนูบางแค      32112   \n",
       "4         105548068538          กรหิรัญ      32112   \n",
       "\n",
       "                                        ประกอบธุรกิจ  \\\n",
       "0          การผลิตเครื่องประดับจากอัญมณีและโลหะมีค่า   \n",
       "1  ประกอบธุจกิจหลักจำหน่ายและให้บริการออกแบบผลิตเ...   \n",
       "2          การผลิตเครื่องประดับจากอัญมณีและโลหะมีค่า   \n",
       "3                  ผลิตและจำหน่ายเหรียญโลหะทุกประเภท   \n",
       "4  ประกอบกิจการเกี่ยวกับผลิตและจำหน่ายเครื่องเงิน...   \n",
       "\n",
       "                                        product_type  \n",
       "0                      Gold Jewelry.Diamonds Jewelry  \n",
       "1                                          Gemstones  \n",
       "2                                       Gold Jewelry  \n",
       "3                            Gemstones,Simi-Precious  \n",
       "4  Gold Bars / Bullion,Rough Diamonds,Precious St...  "
      ]
     },
     "execution_count": 5,
     "metadata": {},
     "output_type": "execute_result"
    }
   ],
   "source": [
    "df"
   ]
  },
  {
   "cell_type": "code",
   "execution_count": 6,
   "id": "d8338772",
   "metadata": {},
   "outputs": [],
   "source": [
    "df['x_roberta'] = df['ประกอบธุรกิจ'] + ' ' + df['product_type']\n",
    "df['x_tfidf'] = df['x_roberta'].apply(tokenizer_text)\n",
    "df['target'] = df['TSIC Code'].astype('category').cat.codes"
   ]
  },
  {
   "cell_type": "code",
   "execution_count": 7,
   "id": "4ea8f57f",
   "metadata": {},
   "outputs": [
    {
     "data": {
      "text/html": [
       "<div>\n",
       "<style scoped>\n",
       "    .dataframe tbody tr th:only-of-type {\n",
       "        vertical-align: middle;\n",
       "    }\n",
       "\n",
       "    .dataframe tbody tr th {\n",
       "        vertical-align: top;\n",
       "    }\n",
       "\n",
       "    .dataframe thead th {\n",
       "        text-align: right;\n",
       "    }\n",
       "</style>\n",
       "<table border=\"1\" class=\"dataframe\">\n",
       "  <thead>\n",
       "    <tr style=\"text-align: right;\">\n",
       "      <th></th>\n",
       "      <th>เลขทะเบียนนิติบุคคล</th>\n",
       "      <th>THname</th>\n",
       "      <th>TSIC Code</th>\n",
       "      <th>ประกอบธุรกิจ</th>\n",
       "      <th>product_type</th>\n",
       "      <th>x_roberta</th>\n",
       "      <th>x_tfidf</th>\n",
       "      <th>target</th>\n",
       "    </tr>\n",
       "  </thead>\n",
       "  <tbody>\n",
       "    <tr>\n",
       "      <th>0</th>\n",
       "      <td>105548144838</td>\n",
       "      <td>แอนติก้า</td>\n",
       "      <td>32111</td>\n",
       "      <td>การผลิตเครื่องประดับจากอัญมณีและโลหะมีค่า</td>\n",
       "      <td>Gold Jewelry.Diamonds Jewelry</td>\n",
       "      <td>การผลิตเครื่องประดับจากอัญมณีและโลหะมีค่า Gold...</td>\n",
       "      <td>การ ผลิต เครื่อง ประดับ จาก อัญมณี และ โลหะ มี...</td>\n",
       "      <td>0</td>\n",
       "    </tr>\n",
       "    <tr>\n",
       "      <th>1</th>\n",
       "      <td>105548144838</td>\n",
       "      <td>แอนติคก้า เจมส์</td>\n",
       "      <td>32111</td>\n",
       "      <td>ประกอบธุจกิจหลักจำหน่ายและให้บริการออกแบบผลิตเ...</td>\n",
       "      <td>Gemstones</td>\n",
       "      <td>ประกอบธุจกิจหลักจำหน่ายและให้บริการออกแบบผลิตเ...</td>\n",
       "      <td>ประกอบ ธุจกิจ หลัก จำหน่าย และ ให้ บริการ ออก ...</td>\n",
       "      <td>0</td>\n",
       "    </tr>\n",
       "    <tr>\n",
       "      <th>2</th>\n",
       "      <td>105540000799</td>\n",
       "      <td>แอนทิค เจมส์</td>\n",
       "      <td>32111</td>\n",
       "      <td>การผลิตเครื่องประดับจากอัญมณีและโลหะมีค่า</td>\n",
       "      <td>Gold Jewelry</td>\n",
       "      <td>การผลิตเครื่องประดับจากอัญมณีและโลหะมีค่า Gold...</td>\n",
       "      <td>การ ผลิต เครื่อง ประดับ จาก อัญมณี และ โลหะ มี...</td>\n",
       "      <td>0</td>\n",
       "    </tr>\n",
       "    <tr>\n",
       "      <th>3</th>\n",
       "      <td>123562001991</td>\n",
       "      <td>168 หนูบางแค</td>\n",
       "      <td>32112</td>\n",
       "      <td>ผลิตและจำหน่ายเหรียญโลหะทุกประเภท</td>\n",
       "      <td>Gemstones,Simi-Precious</td>\n",
       "      <td>ผลิตและจำหน่ายเหรียญโลหะทุกประเภท Gemstones,Si...</td>\n",
       "      <td>ผลิต และ จำหน่าย เหรียญ โลหะ ทุก ประเภท   Gems...</td>\n",
       "      <td>1</td>\n",
       "    </tr>\n",
       "    <tr>\n",
       "      <th>4</th>\n",
       "      <td>105548068538</td>\n",
       "      <td>กรหิรัญ</td>\n",
       "      <td>32112</td>\n",
       "      <td>ประกอบกิจการเกี่ยวกับผลิตและจำหน่ายเครื่องเงิน...</td>\n",
       "      <td>Gold Bars / Bullion,Rough Diamonds,Precious St...</td>\n",
       "      <td>ประกอบกิจการเกี่ยวกับผลิตและจำหน่ายเครื่องเงิน...</td>\n",
       "      <td>ประกอบ กิจการ เกี่ยว กับ ผลิต และ จำหน่าย เครื...</td>\n",
       "      <td>1</td>\n",
       "    </tr>\n",
       "  </tbody>\n",
       "</table>\n",
       "</div>"
      ],
      "text/plain": [
       "   เลขทะเบียนนิติบุคคล           THname  TSIC Code  \\\n",
       "0         105548144838         แอนติก้า      32111   \n",
       "1         105548144838  แอนติคก้า เจมส์      32111   \n",
       "2         105540000799     แอนทิค เจมส์      32111   \n",
       "3         123562001991     168 หนูบางแค      32112   \n",
       "4         105548068538          กรหิรัญ      32112   \n",
       "\n",
       "                                        ประกอบธุรกิจ  \\\n",
       "0          การผลิตเครื่องประดับจากอัญมณีและโลหะมีค่า   \n",
       "1  ประกอบธุจกิจหลักจำหน่ายและให้บริการออกแบบผลิตเ...   \n",
       "2          การผลิตเครื่องประดับจากอัญมณีและโลหะมีค่า   \n",
       "3                  ผลิตและจำหน่ายเหรียญโลหะทุกประเภท   \n",
       "4  ประกอบกิจการเกี่ยวกับผลิตและจำหน่ายเครื่องเงิน...   \n",
       "\n",
       "                                        product_type  \\\n",
       "0                      Gold Jewelry.Diamonds Jewelry   \n",
       "1                                          Gemstones   \n",
       "2                                       Gold Jewelry   \n",
       "3                            Gemstones,Simi-Precious   \n",
       "4  Gold Bars / Bullion,Rough Diamonds,Precious St...   \n",
       "\n",
       "                                           x_roberta  \\\n",
       "0  การผลิตเครื่องประดับจากอัญมณีและโลหะมีค่า Gold...   \n",
       "1  ประกอบธุจกิจหลักจำหน่ายและให้บริการออกแบบผลิตเ...   \n",
       "2  การผลิตเครื่องประดับจากอัญมณีและโลหะมีค่า Gold...   \n",
       "3  ผลิตและจำหน่ายเหรียญโลหะทุกประเภท Gemstones,Si...   \n",
       "4  ประกอบกิจการเกี่ยวกับผลิตและจำหน่ายเครื่องเงิน...   \n",
       "\n",
       "                                             x_tfidf  target  \n",
       "0  การ ผลิต เครื่อง ประดับ จาก อัญมณี และ โลหะ มี...       0  \n",
       "1  ประกอบ ธุจกิจ หลัก จำหน่าย และ ให้ บริการ ออก ...       0  \n",
       "2  การ ผลิต เครื่อง ประดับ จาก อัญมณี และ โลหะ มี...       0  \n",
       "3  ผลิต และ จำหน่าย เหรียญ โลหะ ทุก ประเภท   Gems...       1  \n",
       "4  ประกอบ กิจการ เกี่ยว กับ ผลิต และ จำหน่าย เครื...       1  "
      ]
     },
     "execution_count": 7,
     "metadata": {},
     "output_type": "execute_result"
    }
   ],
   "source": [
    "df"
   ]
  },
  {
   "cell_type": "code",
   "execution_count": 8,
   "id": "377e1074",
   "metadata": {},
   "outputs": [],
   "source": [
    "y = df['target'].values"
   ]
  },
  {
   "cell_type": "markdown",
   "id": "53284125",
   "metadata": {},
   "source": [
    "### Embedding with TFIDF"
   ]
  },
  {
   "cell_type": "code",
   "execution_count": 9,
   "id": "443e02ef",
   "metadata": {},
   "outputs": [],
   "source": [
    "vectorizer = TfidfVectorizer()\n",
    "X_tfidf = vectorizer.fit_transform(df['x_tfidf'].values)"
   ]
  },
  {
   "cell_type": "code",
   "execution_count": 11,
   "id": "644ae353",
   "metadata": {
    "scrolled": true
   },
   "outputs": [
    {
     "data": {
      "text/plain": [
       "array([[0.        , 0.        , 0.29579721, 0.        , 0.2455384 ,\n",
       "        0.59159442, 0.        , 0.        , 0.        , 0.        ,\n",
       "        0.        , 0.        , 0.2455384 , 0.        , 0.        ,\n",
       "        0.29579721, 0.        , 0.29579721, 0.        , 0.        ,\n",
       "        0.        , 0.        , 0.2455384 , 0.        , 0.1747026 ,\n",
       "        0.        , 0.        , 0.        , 0.        , 0.        ,\n",
       "        0.20655465, 0.        , 0.        , 0.        , 0.20655465,\n",
       "        0.        , 0.        , 0.        , 0.1747026 , 0.2455384 ,\n",
       "        0.        ],\n",
       "       [0.        , 0.        , 0.        , 0.25280532, 0.        ,\n",
       "        0.        , 0.        , 0.        , 0.        , 0.        ,\n",
       "        0.        , 0.        , 0.20985126, 0.31334568, 0.        ,\n",
       "        0.        , 0.20985126, 0.        , 0.        , 0.        ,\n",
       "        0.31334568, 0.25280532, 0.20985126, 0.        , 0.1493109 ,\n",
       "        0.        , 0.        , 0.        , 0.        , 0.31334568,\n",
       "        0.17653349, 0.31334568, 0.20985126, 0.        , 0.17653349,\n",
       "        0.        , 0.        , 0.31334568, 0.1493109 , 0.        ,\n",
       "        0.31334568],\n",
       "       [0.        , 0.        , 0.        , 0.        , 0.30454915,\n",
       "        0.36688676, 0.        , 0.        , 0.        , 0.        ,\n",
       "        0.        , 0.        , 0.30454915, 0.        , 0.        ,\n",
       "        0.36688676, 0.        , 0.36688676, 0.        , 0.        ,\n",
       "        0.        , 0.        , 0.30454915, 0.        , 0.21668923,\n",
       "        0.        , 0.        , 0.        , 0.        , 0.        ,\n",
       "        0.25619635, 0.        , 0.        , 0.        , 0.25619635,\n",
       "        0.        , 0.        , 0.        , 0.21668923, 0.30454915,\n",
       "        0.        ],\n",
       "       [0.        , 0.        , 0.        , 0.30275256, 0.        ,\n",
       "        0.        , 0.30275256, 0.        , 0.        , 0.37525399,\n",
       "        0.        , 0.        , 0.        , 0.        , 0.        ,\n",
       "        0.        , 0.25131197, 0.        , 0.        , 0.        ,\n",
       "        0.        , 0.        , 0.        , 0.37525399, 0.17881054,\n",
       "        0.        , 0.37525399, 0.        , 0.        , 0.        ,\n",
       "        0.        , 0.        , 0.25131197, 0.        , 0.        ,\n",
       "        0.        , 0.37525399, 0.        , 0.17881054, 0.25131197,\n",
       "        0.        ],\n",
       "       [0.17482478, 0.17482478, 0.14104753, 0.        , 0.11708219,\n",
       "        0.        , 0.28209506, 0.17482478, 0.17482478, 0.        ,\n",
       "        0.17482478, 0.17482478, 0.        , 0.        , 0.17482478,\n",
       "        0.        , 0.11708219, 0.        , 0.17482478, 0.17482478,\n",
       "        0.        , 0.14104753, 0.        , 0.        , 0.08330494,\n",
       "        0.17482478, 0.        , 0.17482478, 0.17482478, 0.        ,\n",
       "        0.49246615, 0.        , 0.11708219, 0.17482478, 0.39397292,\n",
       "        0.17482478, 0.        , 0.        , 0.08330494, 0.        ,\n",
       "        0.        ]])"
      ]
     },
     "execution_count": 11,
     "metadata": {},
     "output_type": "execute_result"
    }
   ],
   "source": [
    "X_tfidf.toarray()"
   ]
  },
  {
   "cell_type": "markdown",
   "id": "ec4c39b2",
   "metadata": {},
   "source": [
    "#### umap & plot "
   ]
  },
  {
   "cell_type": "code",
   "execution_count": 9,
   "id": "b14b0ea4",
   "metadata": {},
   "outputs": [
    {
     "name": "stderr",
     "output_type": "stream",
     "text": [
      "/home/patcharapon/miniconda3/envs/sbert/lib/python3.8/site-packages/umap/umap_.py:2344: UserWarning: n_neighbors is larger than the dataset size; truncating to X.shape[0] - 1\n",
      "  warn(\n"
     ]
    },
    {
     "data": {
      "text/plain": [
       "<AxesSubplot: >"
      ]
     },
     "execution_count": 9,
     "metadata": {},
     "output_type": "execute_result"
    },
    {
     "data": {
      "image/png": "[encoded data removed]",
      "text/plain": [
       "<Figure size 800x800 with 1 Axes>"
      ]
     },
     "metadata": {},
     "output_type": "display_data"
    }
   ],
   "source": [
    "mapper = umap.UMAP().fit(X_tfidf)\n",
    "umap.plot.points(mapper, labels=y)"
   ]
  },
  {
   "cell_type": "markdown",
   "id": "d3340ee8",
   "metadata": {},
   "source": [
    "#### Plot interactive"
   ]
  },
  {
   "cell_type": "code",
   "execution_count": 10,
   "id": "2917f048",
   "metadata": {},
   "outputs": [],
   "source": [
    "p = umap.plot.interactive(mapper, labels=y, hover_data=df, point_size=10)\n",
    "umap.plot.show(p)"
   ]
  },
  {
   "cell_type": "markdown",
   "id": "2bbbd65b",
   "metadata": {},
   "source": [
    "### Embedding with xlm-roberta-base "
   ]
  },
  {
   "cell_type": "code",
   "execution_count": 11,
   "id": "8fb85d41",
   "metadata": {},
   "outputs": [
    {
     "name": "stderr",
     "output_type": "stream",
     "text": [
      "2022-11-25:12:38:14 WARNING  [sentence_transformers.SentenceTransformer:805] No sentence-transformers model found with name /home/patcharapon/.cache/torch/sentence_transformers/xlm-roberta-base. Creating a new one with MEAN pooling.\n",
      "Some weights of the model checkpoint at /home/patcharapon/.cache/torch/sentence_transformers/xlm-roberta-base were not used when initializing XLMRobertaModel: ['lm_head.dense.weight', 'lm_head.layer_norm.bias', 'lm_head.bias', 'lm_head.layer_norm.weight', 'lm_head.dense.bias', 'lm_head.decoder.weight']\n",
      "- This IS expected if you are initializing XLMRobertaModel from the checkpoint of a model trained on another task or with another architecture (e.g. initializing a BertForSequenceClassification model from a BertForPreTraining model).\n",
      "- This IS NOT expected if you are initializing XLMRobertaModel from the checkpoint of a model that you expect to be exactly identical (initializing a BertForSequenceClassification model from a BertForSequenceClassification model).\n"
     ]
    }
   ],
   "source": [
    "model = SentenceTransformer('xlm-roberta-base')"
   ]
  },
  {
   "cell_type": "code",
   "execution_count": 12,
   "id": "5863612e",
   "metadata": {},
   "outputs": [],
   "source": [
    "X_roberta = model.encode(df['x_roberta'].values)"
   ]
  },
  {
   "cell_type": "code",
   "execution_count": 13,
   "id": "a7aa735a",
   "metadata": {},
   "outputs": [
    {
     "data": {
      "text/plain": [
       "array([[-0.00084542,  0.04235534,  0.00395387, ...,  0.03699317,\n",
       "         0.01012877,  0.04980231],\n",
       "       [-0.00351525, -0.00286574,  0.02613013, ...,  0.0288909 ,\n",
       "         0.05011866,  0.04277145],\n",
       "       [ 0.01481369,  0.02861632,  0.01146653, ...,  0.03824672,\n",
       "         0.03512038,  0.08857794],\n",
       "       [ 0.00288553,  0.00833486,  0.02988876, ..., -0.00894195,\n",
       "         0.06090482,  0.12990814],\n",
       "       [-0.01155416,  0.01691992,  0.02969252, ...,  0.02766423,\n",
       "         0.05441945,  0.07499632]], dtype=float32)"
      ]
     },
     "execution_count": 13,
     "metadata": {},
     "output_type": "execute_result"
    }
   ],
   "source": [
    "X_roberta"
   ]
  },
  {
   "cell_type": "markdown",
   "id": "329ca4fb",
   "metadata": {},
   "source": [
    "#### umap & plot "
   ]
  },
  {
   "cell_type": "code",
   "execution_count": 14,
   "id": "32bf1b3a",
   "metadata": {
    "scrolled": true
   },
   "outputs": [
    {
     "name": "stderr",
     "output_type": "stream",
     "text": [
      "/home/patcharapon/miniconda3/envs/sbert/lib/python3.8/site-packages/umap/umap_.py:2344: UserWarning: n_neighbors is larger than the dataset size; truncating to X.shape[0] - 1\n",
      "  warn(\n"
     ]
    },
    {
     "data": {
      "text/plain": [
       "<AxesSubplot: >"
      ]
     },
     "execution_count": 14,
     "metadata": {},
     "output_type": "execute_result"
    },
    {
     "data": {
      "image/png": "[encoded data removed]",
      "text/plain": [
       "<Figure size 800x800 with 1 Axes>"
      ]
     },
     "metadata": {},
     "output_type": "display_data"
    }
   ],
   "source": [
    "mapper = umap.UMAP().fit(X_roberta)\n",
    "umap.plot.points(mapper, labels=y)"
   ]
  },
  {
   "cell_type": "markdown",
   "id": "968254c4",
   "metadata": {},
   "source": [
    "#### Plot interactive"
   ]
  },
  {
   "cell_type": "code",
   "execution_count": 15,
   "id": "5c028095",
   "metadata": {},
   "outputs": [
    {
     "name": "stdout",
     "output_type": "stream",
     "text": [
      "huggingface/tokenizers: The current process just got forked, after parallelism has already been used. Disabling parallelism to avoid deadlocks...\n",
      "To disable this warning, you can either:\n",
      "\t- Avoid using `tokenizers` before the fork if possible\n",
      "\t- Explicitly set the environment variable TOKENIZERS_PARALLELISM=(true | false)\n"
     ]
    }
   ],
   "source": [
    "p = umap.plot.interactive(mapper, labels=y, hover_data=df, point_size=10)\n",
    "umap.plot.show(p)"
   ]
  }
 ],
 "metadata": {
  "kernelspec": {
   "display_name": "Python 3 (ipykernel)",
   "language": "python",
   "name": "python3"
  },
  "language_info": {
   "codemirror_mode": {
    "name": "ipython",
    "version": 3
   },
   "file_extension": ".py",
   "mimetype": "text/x-python",
   "name": "python",
   "nbconvert_exporter": "python",
   "pygments_lexer": "ipython3",
   "version": "3.8.15"
  }
 },
 "nbformat": 4,
 "nbformat_minor": 5
}
